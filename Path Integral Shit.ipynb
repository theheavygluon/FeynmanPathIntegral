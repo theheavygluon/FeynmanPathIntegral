{
 "cells": [
  {
   "cell_type": "code",
   "execution_count": 11,
   "id": "995f84c9",
   "metadata": {},
   "outputs": [],
   "source": [
    "import numpy as np \n",
    "from matplotlib import pyplot as plt\n",
    "import pandas as pd\n",
    "import scipy as sci\n",
    "from scipy import stats"
   ]
  },
  {
   "cell_type": "markdown",
   "id": "08935104",
   "metadata": {},
   "source": [
    "# Theoretical Background\n",
    "$$\\newcommand{\\ket}[1]{\\left|{#1}\\right\\rangle}$$\n",
    "$$\\newcommand{\\bra}[1]{\\left\\langle{#1}\\right|}$$\n",
    "$$\\newcommand{\\braket}[2]{\\left\\langle{#1}\\middle|{#2}\\right\\rangle}$$\n",
    "\n",
    "A central problem in quantum mechanics is the following: what's the probability amplitude that the following will happen: $(x_a,t_a) \\rightarrow (x_b,t_b)$? This problem is usually described in the following form:\n",
    "\n",
    "$$\\psi(x_b,t_b) = \\int G(x_a,t_a;x_b, t_b)\\psi(x_a,t_a)dx_a$$\n",
    "\n",
    "Where $G$ is a green's function that represents the _propagator_ of the system. A system is said to be fully solved once you have the propagator. For the typical schrodinger picture, it looks a bit like this\n",
    "\n",
    "\n",
    "$$G = \\frac{1}{i\\hbar}\\Theta(t_b - t_a)K(x_a,t_a;x_b, t_b)$$\n",
    "\n",
    "with $\\Theta$ being the Heaviside step function and $K$ being the _kernel_ of the SE (kernel and propagator are sometimes used interchangably). \n",
    "\n",
    "A simple case is the free particle $V(x) = 0$ where the g.f is equivalent to\n",
    "\n",
    "$$G(b,a) = \\sqrt{\\frac{m}{2\\pi\\hbar i (t_b - t_a)}}e^{\\frac{im(x_b - x_a)^2}{2\\hbar (t_b - t_a)}}$$\n",
    "\n",
    "\n",
    "This seems a bit unintuitive, so a physicist named Richard Feynman sought out to find a different (yet, obviously equivilent) formulation, which can be motivated as follows: \n",
    "\n",
    "Consider the action functional ($F: f(x)\\rightarrow g(x)$) $S[x,\\dot{x}] = \\int_{t_a}^{t_b} dt L[x,\\dot{x}]$ of a free particle, which is known for taking the following form:\n",
    "\n",
    "$$S[b,a] = \\frac{m(x_b - x_a)^2}{2(t_b - t_a)}$$\n",
    "\n",
    "\n",
    "Looking at the Green function for a free particle above, one can relate the two as follows:\n",
    "\n",
    "$$G = \\sqrt{\\frac{m}{2\\pi\\hbar i (t_b - t_a)}}e^{iS/\\hbar}$$\n",
    "\n",
    "\n",
    "i.e a quantum system's propagator could be related to its action (and equivilently, its lagrangian). Feynman considered a generalization of this as\n",
    "\n",
    "$$G(b,a) = \\sum_{paths}e^{iS[b,a]/\\hbar}$$\n",
    "\n",
    "In other words, you can describe the amplitude of a particle going from a point in spacetime to another point in space time by considering every possible path (straight line, zig-zag, dancing around in time, etc) and summing all of their amplitudes! This is called the _sum over histories approach_ because you're considering every possible trajectory from $(x_a,t_a) \\rightarrow (x_b, t_b)$\n",
    "\n",
    "### Example: Free Particle\n",
    "\n",
    "Consider a quantum system such that $V(x) = 0$. Our task is to solve get the Wavefunction of this system without resorting to any quantum operators (most notably $\\hat{H}$). \n",
    "\n",
    "The first step is writing down the system's Action:\n",
    "\n",
    "$$S = \\int_{t_a}^{t_b}dt (T - V) \\\\ = \\int_{t_a}^{t_b}dt T$$\n",
    "\n",
    "which is simply\n",
    "\n",
    "$$S = \\int_{t_a}^{t_b}dt \\frac{m}{2}\\dot{x}^2$$\n",
    "\n",
    "Given that there's no time-dependence, and also that $F = -\\frac{dV(x)}{dx} = 0$, we see that the action is\n",
    "\n",
    "$$S[b,a] = \\frac{m(x_b - x_a)^2}{2(t_b - t_a)}$$\n",
    "\n",
    "as mentioned above, this solution allows us to write the Green's Function as\n",
    "\n",
    "$$G(b,a) = \\frac{e^{iS/\\hbar}}{\\sqrt{2\\pi i (t_b - t_a)}} $$\n",
    "\n",
    "\n",
    "\n",
    "### Example: Harmonic Oscillator\n",
    "\n",
    "\n",
    "V ~ x^2\n",
    "\n",
    "\n",
    "### Simulating Path Integrals\n",
    "\n",
    "Say we now want to compute path integrals and, say, estimate $|\\psi(x,t)|^2$ of some system. Looking at the analytical solutions above, one can quickly see that there are some work arounds necessary to implement. The first is simply discretizing the space, i.e rather than considering a continuous path, we assume a lattice that the particle dances around on. Another issue is that we integrate the exponential of $iS/\\hbar$, which makes the integral much harder to calculate (and in fact, not likely to converge). We resolve this by applying a Wick transformation, $t \\rightarrow -it$ which _rotates the lagrangian into the hamiltonian_ and therefore gives us:\n",
    "\n",
    "$$S = \\int dt L = i\\int d\\tau H$$\n",
    "\n",
    "where $\\tau = -it$. These adgustments gives us the following:\n",
    "\n",
    "$$G(x,-i\\tau;x_0,0) = A\\int e^{\\epsilon E(x_j)}dx_1\\dots dx_{N-1}$$\n",
    "\n",
    "where we consider $N$ time-points separated by $\\epsilon$ indexed by $j$ such that $\\tau = j\\epsilon$. $E$ is the total energy along the path and is approximated as\n",
    "\n",
    "$$E = \\sum_{j=1}^N \\left[\\frac{m}{2}\\left(\\frac{x_j - x_{j-1}}{\\epsilon}\\right)^2 + V\\left(\\frac{x_j + x_{j-1}}{2}\\right)\\right]$$\n",
    "\n",
    "from $G$ we get the probability density as\n",
    "\n",
    "$$|\\psi(x)|^2 = \\frac{1}{Z}G(x,-i\\tau; x,0)$$\n",
    "\n",
    "\n"
   ]
  },
  {
   "cell_type": "code",
   "execution_count": 60,
   "id": "09ba36fc",
   "metadata": {},
   "outputs": [],
   "source": [
    "def MCMC(p, z0, sigma, n_samples=100, burn_in=0, m=1):\n",
    "    samples = np.zeros(n_samples)\n",
    "    samples[0] = z0\n",
    "    z = z0\n",
    "    l_cur = p(z)\n",
    "    iter = 0\n",
    "    iters = (n_samples * m) + burn_in\n",
    "    innov = np.random.normal(loc=0, scale=sigma, size=iters)\n",
    "    u = np.random.rand(iters)\n",
    "    while iter < iters:\n",
    "        cand = z + innov[iter]\n",
    "        l_cand = p(cand)\n",
    "        if l_cand / l_cur > u[iter]:\n",
    "            z = cand\n",
    "            l_cur = l_cand\n",
    "        if iter > burn_in and iter % m == 0:\n",
    "            samples[(iter - burn_in) // m] = z\n",
    "        iter += 1\n",
    "    return samples"
   ]
  },
  {
   "cell_type": "code",
   "execution_count": 61,
   "id": "87be5181",
   "metadata": {},
   "outputs": [],
   "source": [
    "a = MCMC(stats.norm.pdf,3, 1, n_samples=1000, burn_in=100, m=10)"
   ]
  },
  {
   "cell_type": "code",
   "execution_count": 62,
   "id": "79a57ef7",
   "metadata": {},
   "outputs": [
    {
     "data": {
      "text/plain": [
       "Text(0, 0.5, 'S(x_i)')"
      ]
     },
     "execution_count": 62,
     "metadata": {},
     "output_type": "execute_result"
    },
    {
     "data": {
      "image/png": "[encoded data removed]",
      "text/plain": [
       "<Figure size 432x288 with 1 Axes>"
      ]
     },
     "metadata": {
      "needs_background": "light"
     },
     "output_type": "display_data"
    }
   ],
   "source": [
    "plt.plot(a,color='blue')\n",
    "plt.xlabel('i')\n",
    "plt.ylabel('S(x_i)')"
   ]
  },
  {
   "cell_type": "code",
   "execution_count": 63,
   "id": "644c1e91",
   "metadata": {},
   "outputs": [],
   "source": [
    "b = [sum(a[:i]) for i in range(len(a)-1)]"
   ]
  },
  {
   "cell_type": "code",
   "execution_count": 76,
   "id": "df09d0ad",
   "metadata": {},
   "outputs": [
    {
     "data": {
      "text/plain": [
       "[<matplotlib.lines.Line2D at 0x131826580>]"
      ]
     },
     "execution_count": 76,
     "metadata": {},
     "output_type": "execute_result"
    },
    {
     "data": {
      "image/png": "[encoded data removed]",
      "text/plain": [
       "<Figure size 432x288 with 1 Axes>"
      ]
     },
     "metadata": {
      "needs_background": "light"
     },
     "output_type": "display_data"
    }
   ],
   "source": [
    "plt.plot(b,color='black')"
   ]
  },
  {
   "cell_type": "code",
   "execution_count": null,
   "id": "3b593f61",
   "metadata": {},
   "outputs": [],
   "source": []
  },
  {
   "cell_type": "code",
   "execution_count": null,
   "id": "2aa87bb8",
   "metadata": {},
   "outputs": [],
   "source": []
  }
 ],
 "metadata": {
  "kernelspec": {
   "display_name": "Python 3",
   "language": "python",
   "name": "python3"
  },
  "language_info": {
   "codemirror_mode": {
    "name": "ipython",
    "version": 3
   },
   "file_extension": ".py",
   "mimetype": "text/x-python",
   "name": "python",
   "nbconvert_exporter": "python",
   "pygments_lexer": "ipython3",
   "version": "3.8.8"
  }
 },
 "nbformat": 4,
 "nbformat_minor": 5
}
